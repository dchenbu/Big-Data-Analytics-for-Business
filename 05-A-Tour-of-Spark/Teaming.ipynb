{
  "nbformat": 4,
  "nbformat_minor": 0,
  "metadata": {
    "kernelspec": {
      "display_name": "Python 3",
      "language": "python",
      "name": "python3"
    },
    "language_info": {
      "codemirror_mode": {
        "name": "ipython",
        "version": 3
      },
      "file_extension": ".py",
      "mimetype": "text/x-python",
      "name": "python",
      "nbconvert_exporter": "python",
      "pygments_lexer": "ipython3",
      "version": "3.5.6"
    },
    "colab": {
      "provenance": []
    }
  },
  "cells": [
    {
      "cell_type": "markdown",
      "metadata": {
        "id": "SUaLkhkS3sRt"
      },
      "source": [
        "# Teaming\n",
        "\n",
        "First we pick a seed for a complete random assignment:"
      ]
    },
    {
      "cell_type": "code",
      "metadata": {
        "id": "1RqJ8xkj3sRt",
        "colab": {
          "base_uri": "https://localhost:8080/"
        },
        "outputId": "70d7201e-0f91-4d48-ddde-158c4efadb52"
      },
      "source": [
        "seed = 843\n",
        "seed"
      ],
      "execution_count": 46,
      "outputs": [
        {
          "output_type": "execute_result",
          "data": {
            "text/plain": [
              "843"
            ]
          },
          "metadata": {},
          "execution_count": 46
        }
      ]
    },
    {
      "cell_type": "code",
      "metadata": {
        "id": "9jETjgS65rNL"
      },
      "source": [
        "from google.colab import auth\n",
        "auth.authenticate_user()\n",
        "\n",
        "import gspread\n",
        "from google.auth import default\n",
        "creds, _ = default()\n",
        "\n",
        "gc = gspread.authorize(creds)"
      ],
      "execution_count": 47,
      "outputs": []
    },
    {
      "cell_type": "code",
      "metadata": {
        "id": "QoLryYTTGmol"
      },
      "source": [
        "worksheet = gc.open_by_url('https://docs.google.com/spreadsheets/d/1KVyZEnAKV85x4cwvK3yb0w_kYw0AItM3pLOifcj-4Po/edit#gid=135803008').get_worksheet(1)\n",
        "\n",
        "rows = worksheet.get_all_values()\n",
        "\n",
        "# Convert to a DataFrame and render.\n",
        "import pandas as pd\n",
        "import numpy as np\n",
        "students = pd.DataFrame.from_records(rows)\n",
        "\n",
        "students = students.iloc[1:,[0,3,4,5,6,7,8,9,10,11,12]]\n",
        "students.columns = ['name', 'email', 'team', 'Finance', 'Healthcare', 'BI', 'Technology', 'Marketing', 'Fashion', 'Entertainment', 'Retail']\n",
        "\n",
        "students = students.replace(r'^\\s*$', 0, regex=True)\n",
        "students['team'] = students['team'].astype('bool')\n",
        "\n",
        "d = {'TRUE': 1, 'FALSE': 0}\n",
        "\n",
        "students['Finance'] = students['Finance'].map(d)\n",
        "students['Healthcare'] = students['Healthcare'].map(d)\n",
        "students['BI'] = students['BI'].map(d)\n",
        "students['Technology'] = students['Technology'].map(d)\n",
        "students['Marketing'] = students['Marketing'].map(d)\n",
        "students['Fashion'] = students['Fashion'].map(d)\n",
        "students['Entertainment'] = students['Entertainment'].map(d)\n",
        "students['Retail'] = students['Retail'].map(d)\n",
        "\n",
        "# 'Finance', 'Healthcare', 'BI', 'Technology', 'Marketing', 'Fashion', 'Entertainment', 'Retail'\n",
        "final_aoi = ['Finance', 'Healthcare', 'BI', 'Technology', 'Marketing']\n",
        "students['interests'] = [np.asarray(x) for x in students[final_aoi].values.tolist()]\n",
        "students = students[['name', 'email', 'team'] + final_aoi + ['interests']]\n",
        "\n",
        "students.head(5)"
      ],
      "execution_count": null,
      "outputs": []
    },
    {
      "cell_type": "code",
      "source": [
        "# constructing and sorting the PMs table\n",
        "# PMs with smaller number of interests go first to maximize match\n",
        "PMs = students[students.team].copy()\n",
        "PMs['num_areas'] = [sum(interest) for interest in PMs.interests]\n",
        "PMs.sort_values('num_areas', inplace=True)\n",
        "PMs = PMs.reset_index(drop=True)\n",
        "PMs"
      ],
      "metadata": {
        "id": "HvJkBLE4HTFl"
      },
      "execution_count": null,
      "outputs": []
    },
    {
      "cell_type": "code",
      "source": [
        "while True:\n",
        "    print(seed)  # wil try different seeds until no team has a 0 overlap (seed += 1)\n",
        "\n",
        "    students_ = students.copy()\n",
        "    teams = pd.DataFrame()\n",
        "\n",
        "    for i, lead in PMs.iterrows():\n",
        "        lead_interest = PMs.interests[i]\n",
        "        teammates = students_[~students_.team].reset_index(drop=True).copy()\n",
        "        teammates['match_score'] = [sum(interest * lead_interest) for interest in teammates.interests]\n",
        "        teammates.sort_values('match_score', ascending=False, inplace=True)\n",
        "        teammates = teammates.reset_index(drop=True)\n",
        "        \n",
        "        take_n = (len(students) // len(PMs)) - 1  # number of team members: take_n or take_n + 1\n",
        "        if i >= len(PMs)- (students_.shape[0] - ((take_n+1) * len(PMs))):\n",
        "            take_n += 1\n",
        "\n",
        "        lead_ = students_[students_['name'] == PMs.name[i]][['name', 'email', 'interests']]\n",
        "\n",
        "        n_top_matches = len(teammates[teammates.match_score == max(teammates.match_score)])\n",
        "        if n_top_matches >= take_n:\n",
        "            team_tmp = teammates[teammates.match_score == max(teammates.match_score)][['name','email','interests','match_score']].sample(n=take_n, random_state = seed)\n",
        "        else: \n",
        "            team_tmp = teammates[teammates.match_score == max(teammates.match_score)][['name','email','interests','match_score']]\n",
        "            second_matches = teammates[teammates.match_score == max(teammates.match_score)-1][['name','email','interests','match_score']]\n",
        "            if len(second_matches) >= take_n-n_top_matches:\n",
        "                team_tmp = pd.concat([second_matches.sample(n=take_n-n_top_matches, random_state = seed), team_tmp])\n",
        "            else:\n",
        "                team_tmp = teammates[['name','email','interests','match_score']].head(take_n)\n",
        "                \n",
        "        students_.loc[students_['name'].isin(team_tmp['name']), 'team'] = True\n",
        "        team_tmp = pd.concat([lead_, team_tmp])\n",
        "        team_tmp['overlap'] = sum([np.prod(np.array([i for i in team_tmp.interests])[:,j]) for j in range(5)])\n",
        "        team_tmp['team'] = i+1\n",
        "        teams = pd.concat([teams, team_tmp])\n",
        "\n",
        "    teams = teams.reset_index(drop=True)\n",
        "    if np.prod(teams.overlap) > 0:\n",
        "        break\n",
        "    seed = seed + 1\n",
        "\n",
        "teams"
      ],
      "metadata": {
        "id": "ggXMoT1TKNZO"
      },
      "execution_count": null,
      "outputs": []
    },
    {
      "cell_type": "code",
      "metadata": {
        "id": "YZppg2Gv-3AE"
      },
      "source": [
        "teams.to_csv('teams.csv', index=False)"
      ],
      "execution_count": null,
      "outputs": []
    }
  ]
}